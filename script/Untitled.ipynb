{
 "cells": [
  {
   "cell_type": "code",
   "execution_count": 1,
   "id": "8f3c7557",
   "metadata": {},
   "outputs": [],
   "source": [
    "import numpy as np\n",
    "import pinocchio as pin\n",
    "from example_robot_data import load\n",
    "from scipy.optimize import linprog\n",
    "from scipy.spatial import ConvexHull"
   ]
  },
  {
   "cell_type": "code",
   "execution_count": 2,
   "id": "e600db3f",
   "metadata": {},
   "outputs": [],
   "source": [
    "#loading go2 model\n",
    "robot = load(\"go2\")"
   ]
  },
  {
   "cell_type": "code",
   "execution_count": 3,
   "id": "48d21b71",
   "metadata": {},
   "outputs": [
    {
     "name": "stdout",
     "output_type": "stream",
     "text": [
      "You can open the visualizer by visiting the following URL:\n",
      "http://127.0.0.1:7000/static/\n",
      "Nb joints = 14 (nq=19,nv=18)\n",
      "  Joint 0 universe: parent=0\n",
      "  Joint 1 root_joint: parent=0\n",
      "  Joint 2 FL_hip_joint: parent=1\n",
      "  Joint 3 FL_thigh_joint: parent=2\n",
      "  Joint 4 FL_calf_joint: parent=3\n",
      "  Joint 5 FR_hip_joint: parent=1\n",
      "  Joint 6 FR_thigh_joint: parent=5\n",
      "  Joint 7 FR_calf_joint: parent=6\n",
      "  Joint 8 RL_hip_joint: parent=1\n",
      "  Joint 9 RL_thigh_joint: parent=8\n",
      "  Joint 10 RL_calf_joint: parent=9\n",
      "  Joint 11 RR_hip_joint: parent=1\n",
      "  Joint 12 RR_thigh_joint: parent=11\n",
      "  Joint 13 RR_calf_joint: parent=12\n",
      "\n"
     ]
    }
   ],
   "source": [
    "#loading visualiser\n",
    "from utils.meshcat_viewer_wrapper import MeshcatVisualizer # the meshcat visualiser\n",
    "viz = MeshcatVisualizer(robot)\n",
    "viz.display(robot.q0)\n",
    "print(robot.model)"
   ]
  },
  {
   "cell_type": "code",
   "execution_count": 4,
   "id": "d088a035",
   "metadata": {},
   "outputs": [],
   "source": [
    "#sampling a random configuration\n",
    "q = pin.randomConfiguration(robot.model)\n",
    "viz.display(q)"
   ]
  },
  {
   "cell_type": "code",
   "execution_count": 5,
   "id": "a13584b3",
   "metadata": {},
   "outputs": [
    {
     "name": "stdout",
     "output_type": "stream",
     "text": [
      "Nb joints = 14 (nq=19,nv=18)\n",
      "  Joint 0 universe: parent=0\n",
      "  Joint 1 root_joint: parent=0\n",
      "  Joint 2 FL_hip_joint: parent=1\n",
      "  Joint 3 FL_thigh_joint: parent=2\n",
      "  Joint 4 FL_calf_joint: parent=3\n",
      "  Joint 5 FR_hip_joint: parent=1\n",
      "  Joint 6 FR_thigh_joint: parent=5\n",
      "  Joint 7 FR_calf_joint: parent=6\n",
      "  Joint 8 RL_hip_joint: parent=1\n",
      "  Joint 9 RL_thigh_joint: parent=8\n",
      "  Joint 10 RL_calf_joint: parent=9\n",
      "  Joint 11 RR_hip_joint: parent=1\n",
      "  Joint 12 RR_thigh_joint: parent=11\n",
      "  Joint 13 RR_calf_joint: parent=12\n",
      "\n"
     ]
    }
   ],
   "source": [
    "print(robot.model)"
   ]
  },
  {
   "cell_type": "code",
   "execution_count": 6,
   "id": "ec832d15",
   "metadata": {},
   "outputs": [],
   "source": [
    "#defining effector frames\n",
    "\n",
    "pin.forwardKinematics(robot.model, robot.data, robot.q0)\n",
    "pin.updateFramePlacements(robot.model, robot.data)\n",
    "\n",
    "effectors = [\"FL_foot_joint\", \"RL_foot_joint\", \"RR_foot_joint\", \"FR_foot_joint\"]\n",
    "frame_ids = [robot.model.getFrameId(eff) for eff in effectors]\n",
    "placements = [robot.data.oMf[frame_id] for frame_id in frame_ids]\n",
    "\n",
    "#display effectors positions just to make sure that there is no offset\n",
    "effectorspheres_id = ['world/ball'+eff for eff in effectors]\n",
    "[viz.addSphere(sph_id,.023,[1,0,0,1]) for sph_id in effectorspheres_id]\n",
    "\n",
    "for frame_id, sph_id in zip(frame_ids, effectorspheres_id):\n",
    "    pos = robot.data.oMf[frame_id].translation\n",
    "    viz.applyConfiguration(sph_id,[pos[0],pos[1],pos[2],1,0,0,0])\n"
   ]
  },
  {
   "cell_type": "code",
   "execution_count": 7,
   "id": "c3739832",
   "metadata": {},
   "outputs": [],
   "source": [
    "NUM_SAMPLES = 18000\n",
    "IT_DISPLAY_PROGRESS = NUM_SAMPLES / 10\n",
    "MIN_DIST_BETWEEN_FEET_Y = 0.10\n",
    "MIN_DIST_BETWEEN_FEET_X = 0.10\n",
    "MAX_DIST_BETWEEN_FEET_X = 0.35\n",
    "MAX_DIST_BETWEEN_FEET_Z = 0.35\n",
    "MIN_HEIGHT_COM = 0.3\n",
    "# margin used to constrain the com y position : if it's on the left of the left foot\n",
    "# or on the right of the right foot\n",
    "# for more than this margin, we reject this sample:\n",
    "MARGIN_FEET_SIDE = 0.02\n",
    "ZERO_CONF = robot.q0[:7]"
   ]
  },
  {
   "cell_type": "code",
   "execution_count": 8,
   "id": "0d8bf2dd",
   "metadata": {},
   "outputs": [
    {
     "data": {
      "text/plain": [
       "[array([0.17259716, 0.16349486, 0.0226347 ]),\n",
       " array([-0.21420284,  0.16349486,  0.0226347 ]),\n",
       " array([-0.21420284, -0.16349486,  0.0226347 ]),\n",
       " array([ 0.17259716, -0.16349486,  0.0226347 ])]"
      ]
     },
     "execution_count": 8,
     "metadata": {},
     "output_type": "execute_result"
    }
   ],
   "source": [
    "[pl.translation for pl in placements]"
   ]
  },
  {
   "cell_type": "code",
   "execution_count": 24,
   "id": "9169e4dc",
   "metadata": {},
   "outputs": [],
   "source": [
    "#define a function that generates a random configuration that is acceptable, ie\n",
    "# collision free, with the trunk above the feet, no cross over, and somehow in quasi static equilibrium\n",
    "\n",
    "#applies a configuration and updates geometry and data\n",
    "def apply(q):    \n",
    "    pin.forwardKinematics(robot.model, robot.data, q)\n",
    "    pin.updateFramePlacements(robot.model, robot.data)\n",
    "    pin.updateGeometryPlacements(robot.model, robot.data, robot.collision_model, robot.collision_data)\n",
    "\n",
    "# all functions below assume apply has been called\n",
    "def collision():\n",
    "    return pin.computeCollisions(robot.collision_model,robot.collision_data,True)\n",
    "    \n",
    "def feet_below_base_ok(positions):\n",
    "    \"\"\"\n",
    "    returns true if the configuration is in quasi-static equilibrium assuming quasi-flat surfaces\n",
    "    \"\"\"\n",
    "    return all( [pos[2] < ZERO_CONF[2]-0.1 for pos in positions])\n",
    "    \n",
    "def no_crossing(positions):\n",
    "    \"\"\"\n",
    "    returns true if legs do not cross\n",
    "    \"\"\"\n",
    "    #order is effectors = [\"FL_foot_joint\", \"RL_foot_joint\", \"RR_foot_joint\", \"FR_foot_joint\"]\n",
    "    # first, front legs before back legs\n",
    "    if positions[0][0] <  positions[1][0] or positions[2][0] >  positions[3][0]:\n",
    "        return False\n",
    "    # then left leg more to the right than right leg\n",
    "    if positions[0][1] <  positions[3][1] or positions[1][1] <  positions[2][1]:\n",
    "        return False\n",
    "    return True\n",
    "    \n",
    "\n",
    "    \n",
    "def stay_on_side(positions):\n",
    "    \"\"\"\n",
    "    returns true if legs stay on their \"side\"\n",
    "    \"\"\"\n",
    "    #order is effectors = [\"FL_foot_joint\", \"RL_foot_joint\", \"RR_foot_joint\", \"FR_foot_joint\"]\n",
    "    # first, front legs before back legs\n",
    "    if positions[0][1] <  MARGIN_FEET_SIDE or positions[1][1]  <  MARGIN_FEET_SIDE:\n",
    "        return False\n",
    "    # then left leg more to the right than right leg\n",
    "    if positions[2][1] >  -MARGIN_FEET_SIDE or positions[3][1]  >  -MARGIN_FEET_SIDE:\n",
    "        return False\n",
    "    return True\n",
    "    \n",
    "def static_eq(positions, com):    \n",
    "    \"\"\"\n",
    "    returns true if the configuration is in quasi-static equilibrium assuming quasi-flat surfaces\n",
    "    \"\"\"\n",
    "    return True;\n",
    "    sizeX = len(positions)\n",
    "    E = np.zeros((3, sizeX))\n",
    "    for i, pos in enumerate(positions):\n",
    "        E[:2, i] = pos[:2]\n",
    "    e = np.array([com[0], com[1], 1.0])\n",
    "    E[2, :] = np.ones(sizeX)\n",
    "    res = linprog(\n",
    "        np.ones(sizeX),\n",
    "        A_ub=None,\n",
    "        b_ub=None,\n",
    "        A_eq=E,\n",
    "        b_eq=e,\n",
    "        bounds=[(0.0, 1.0) for _ in range(sizeX)],\n",
    "        method=\"interior-point\",\n",
    "        callback=None,\n",
    "        options={\"presolve\": True},\n",
    "    )\n",
    "    return res[\"success\"]\n",
    "\n",
    "\n",
    "\n",
    "def point_not_inside_hull(positions):\n",
    "    \"\"\"\n",
    "    returns False of one of the point is inside the convex hulls of the others.\n",
    "    We do not want that, or do we?\n",
    "    \"\"\"\n",
    "    for i, pos in enumerate(positions):\n",
    "        others = positions[:i] + positions[i + 1 :]\n",
    "        if staticEq(others, pos):\n",
    "            return False\n",
    "    return True\n",
    "\n",
    "def gen_quasi_static():\n",
    "    while True:\n",
    "        q = pin.randomConfiguration(robot.model)\n",
    "        q[:7]= ZERO_CONF[:]\n",
    "        apply(q)    \n",
    "        for frame_id, sph_id in zip(frame_ids, effectorspheres_id):\n",
    "            pos = robot.data.oMf[frame_id].translation\n",
    "        positions = [robot.data.oMf[frame_id].translation for frame_id in frame_ids]\n",
    "        com = pin.centerOfMass(robot.model, robot.data, q)\n",
    "        if not collision() and stay_on_side(positions) and no_crossing(positions) and feet_below_base_ok(positions) and static_eq(positions, com):\n",
    "            return q\n",
    "    \n",
    "\n",
    "q = gen_quasi_static()\n",
    "viz.display(q)\n",
    "for frame_id, sph_id in zip(frame_ids, effectorspheres_id):\n",
    "    pos = robot.data.oMf[frame_id].translation\n",
    "    viz.applyConfiguration(sph_id,[pos[0],pos[1],pos[2],1,0,0,0])"
   ]
  },
  {
   "cell_type": "code",
   "execution_count": 21,
   "id": "00ab0286",
   "metadata": {},
   "outputs": [
    {
     "ename": "NameError",
     "evalue": "name 'positions' is not defined",
     "output_type": "error",
     "traceback": [
      "\u001b[0;31m---------------------------------------------------------------------------\u001b[0m",
      "\u001b[0;31mNameError\u001b[0m                                 Traceback (most recent call last)",
      "Cell \u001b[0;32mIn[21], line 1\u001b[0m\n\u001b[0;32m----> 1\u001b[0m \u001b[43mpositions\u001b[49m\n",
      "\u001b[0;31mNameError\u001b[0m: name 'positions' is not defined"
     ]
    }
   ],
   "source": [
    "positions"
   ]
  },
  {
   "cell_type": "code",
   "execution_count": 16,
   "id": "18205513",
   "metadata": {},
   "outputs": [],
   "source": [
    "#storing com points and other effectors points\n",
    "compoints = [[] for _ in effectors]\n",
    "points = [{} for _ in effectors]\n",
    "for i, eff in enumerate(effectors):\n",
    "    for j, otherEff in enumerate(effectors):\n",
    "        if i != j:\n",
    "            points[i][otherEff] = []\n",
    "            "
   ]
  },
  {
   "cell_type": "code",
   "execution_count": null,
   "id": "63335e94",
   "metadata": {},
   "outputs": [],
   "source": [
    "def printFootPositionRelativeToOther(q_s, pos_s, com_s):\n",
    "    nbConfigs = len(q_s)\n",
    "    for i, (q, pos, com) in enumerate(zip(q_s, pos_s, com_s)):\n",
    "        if i > 0 and not i % IT_DISPLAY_PROGRESS:\n",
    "            print(int((i * 100) / nbConfigs), \" % done\")\n",
    "            success += 1\n",
    "            addCom = True\n",
    "            for j, effectorName in enumerate(effectors):\n",
    "                for otheridx, (oeffectorName, limbId) in enumerate(\n",
    "                    zip(effectors, limbIds)\n",
    "                ):\n",
    "                    if otheridx != j:\n",
    "                        fullBody.setCurrentConfig(q)\n",
    "                        pos_other = fullBody.getJointPosition(oeffectorName)\n",
    "                        pos = fullBody.getJointPosition(effectorName)\n",
    "                        p = array(pos_other[:3]) - array(pos[:3]).tolist()\n",
    "                        if MAX_DIST_BETWEEN_FEET_Z > abs(p[2]):\n",
    "                            if MIN_DIST_BETWEEN_FEET_Y <= abs(p[1]):\n",
    "                                if MIN_DIST_BETWEEN_FEET_X <= abs(p[0]):\n",
    "                                    # this is not what we want to do in theory\n",
    "                                    # but it works well in fact\n",
    "                                    points[j][oeffectorName].append(p[:3])\n",
    "                                else:\n",
    "                                    addCom = False\n",
    "                            else:\n",
    "                                addCom = False\n",
    "                        else:\n",
    "                            print(\n",
    "                                \"rejecting \",\n",
    "                                effectorName,\n",
    "                                \" \",\n",
    "                                oeffectorName,\n",
    "                                p,\n",
    "                                abs(p[2]),\n",
    "                            )\n",
    "                            # ~ print ('pos_other', pos_other)\n",
    "                            # ~ print ('old_pos', old_pos)\n",
    "                            addCom = False\n",
    "                            v(q)\n",
    "                        # ~ if (j == 0 and p[1] > MIN_DIST_BETWEEN_FEET_Y\n",
    "                        #       and abs(p[0]) < MAX_DIST_BETWEEN_FEET_X):\n",
    "                        # ~ points[j].append(p[:3])\n",
    "                        # ~ elif (j == 1 and p[1] < -MIN_DIST_BETWEEN_FEET_Y\n",
    "                        #         and abs(p[0]) < MAX_DIST_BETWEEN_FEET_X):\n",
    "                        # ~ points[j].append(p[:3])\n",
    "                        # ~ else:\n",
    "                        # ~ addCom =\n",
    "            # now compute coms\n",
    "\n",
    "            fullBody.setCurrentConfig(q)\n",
    "            com = array(fullBody.getCenterOfMass())\n",
    "            print(\"com \", com)\n",
    "            # ~ for x in range(0, 3):\n",
    "            # ~ q[x] = -com[x]\n",
    "            for j, effectorName in enumerate(effectors):\n",
    "                pos = fullBody.getJointPosition(effectorName)\n",
    "                rp = array(com) - array(pos[:3]).tolist()\n",
    "                # ~ qEffector = fullBody.getJointPosition(effectorName)\n",
    "                # ~ q0 = Quaternion(qEffector[6], qEffector[3], qEffector[4],\n",
    "                #                   qEffector[5])\n",
    "                # ~ rot = q0.matrix()  # compute rotation matrix world -> local\n",
    "                # ~ p = qEffector[0:3]  # (0,0,0) coordinate expressed in effector fram\n",
    "                # ~ rm = np.zeros((4, 4))\n",
    "                # ~ for k in range(0, 3):\n",
    "                # ~ for l in range(0, 3):\n",
    "                # ~ rm[k, l] = rot[k, l]\n",
    "                # ~ for m in range(0, 3):\n",
    "                # ~ rm[m, 3] = qEffector[m]\n",
    "                # ~ rm[3, 3] = 1\n",
    "                # ~ invrm = np.linalg.inv(rm)\n",
    "                # ~ p = invrm.dot([0, 0, 0, 1])\n",
    "                # ~ # add offset\n",
    "                # ~ rp = array(p[:3] - offsets[j]).tolist()\n",
    "\n",
    "                if rp[2] < MIN_HEIGHT_COM:\n",
    "                    addCom = False\n",
    "                    print(\"reject min heught\")\n",
    "                if addCom:\n",
    "                    compoints[j].append(rp)\n",
    "                    # ~ if j == 1:\n",
    "                    # ~ if rp[1] < MARGIN_FEET_SIDE:\n",
    "                    # ~ compoints[j].append(rp)\n",
    "                    # ~ else:\n",
    "                    # ~ if rp[1] > -MARGIN_FEET_SIDE:\n",
    "                    # ~ compoints[j].append(rp)\n"
   ]
  },
  {
   "cell_type": "code",
   "execution_count": 140,
   "id": "a58f58eb",
   "metadata": {},
   "outputs": [],
   "source": [
    "NUM_SAMPLES = 18000\n",
    "IT_DISPLAY_PROGRESS = NUM_SAMPLES / 10\n",
    "MIN_DIST_BETWEEN_FEET_Y = 0.10\n",
    "MIN_DIST_BETWEEN_FEET_X = 0.10\n",
    "MAX_DIST_BETWEEN_FEET_X = 0.35\n",
    "MAX_DIST_BETWEEN_FEET_Z = 0.35\n",
    "MIN_HEIGHT_COM = 0.3\n",
    "# margin used to constrain the com y position : if it's on the left of the left foot\n",
    "# or on the right of the right foot\n",
    "# for more than this margin, we reject this sample:\n",
    "MARGIN_FEET_SIDE = 0.05\n",
    "ZERO_CONF = robot.q0[:7]"
   ]
  },
  {
   "cell_type": "code",
   "execution_count": 58,
   "id": "4394cd00",
   "metadata": {},
   "outputs": [
    {
     "name": "stdout",
     "output_type": "stream",
     "text": [
      "pos [-0.56475879  0.40738133  0.18074512]\n",
      "pos [0.0830834  0.42975445 0.36444446]\n",
      "pos [-0.01686018  0.91640843  0.3697123 ]\n",
      "pos [-0.15634456  0.32184715 -0.42638796]\n"
     ]
    }
   ],
   "source": [
    "for joint_id, sph_id in zip(joints_ids, effectorspheres_id):\n",
    "    pos = robot.data.oMf[joint_id].translation\n",
    "    print(\"pos\", pos)\n",
    "    viz.applyConfiguration(sph_id,[pos[0],pos[1],pos[2],1,0,0,0])"
   ]
  },
  {
   "cell_type": "code",
   "execution_count": 83,
   "id": "0a41a143",
   "metadata": {},
   "outputs": [
    {
     "data": {
      "text/plain": [
       "array([0.   , 0.   , 0.335, 0.   , 0.   , 0.   , 1.   ])"
      ]
     },
     "execution_count": 83,
     "metadata": {},
     "output_type": "execute_result"
    }
   ],
   "source": [
    "robot.q0[:7]"
   ]
  },
  {
   "cell_type": "code",
   "execution_count": null,
   "id": "bf487783",
   "metadata": {},
   "outputs": [],
   "source": []
  }
 ],
 "metadata": {
  "kernelspec": {
   "display_name": "Python 3 (ipykernel)",
   "language": "python",
   "name": "python3"
  },
  "language_info": {
   "codemirror_mode": {
    "name": "ipython",
    "version": 3
   },
   "file_extension": ".py",
   "mimetype": "text/x-python",
   "name": "python",
   "nbconvert_exporter": "python",
   "pygments_lexer": "ipython3",
   "version": "3.12.3"
  }
 },
 "nbformat": 4,
 "nbformat_minor": 5
}
